{
 "cells": [
  {
   "cell_type": "markdown",
   "metadata": {},
   "source": [
    "### Import pakietów"
   ]
  },
  {
   "cell_type": "code",
   "execution_count": 10,
   "metadata": {},
   "outputs": [],
   "source": [
    "import os\n",
    "import json\n",
    "import requests\n",
    "from bs4 import BeautifulSoup"
   ]
  },
  {
   "cell_type": "markdown",
   "metadata": {},
   "source": [
    "### Proces ekstrakcji opinii o produckie ze strony Ceneo.pl\n"
   ]
  },
  {
   "cell_type": "code",
   "execution_count": 11,
   "metadata": {},
   "outputs": [],
   "source": [
    "with open('headers.json',\"r\") as jf:\n",
    "    headers = json.load(jf)"
   ]
  },
  {
   "cell_type": "code",
   "execution_count": 12,
   "metadata": {},
   "outputs": [
    {
     "data": {
      "text/plain": [
       "200"
      ]
     },
     "execution_count": 12,
     "metadata": {},
     "output_type": "execute_result"
    }
   ],
   "source": [
    "product_id = \"84514582\"\n",
    "url = (f\"https://www.ceneo.pl/{product_id}#tab=reviews\")\n",
    "all_opinions = []\n",
    "response = requests.get(url,headers=headers)\n",
    "response.status_code"
   ]
  },
  {
   "cell_type": "code",
   "execution_count": 13,
   "metadata": {},
   "outputs": [],
   "source": [
    "if response.status_code == 200:\n",
    "    page_dom = BeautifulSoup(response.text, \"html.parser\")\n",
    "    opinions = page_dom.select(\"div.js_product-review:not(.user-post--highlight)\")"
   ]
  },
  {
   "cell_type": "code",
   "execution_count": 14,
   "metadata": {},
   "outputs": [
    {
     "name": "stdout",
     "output_type": "stream",
     "text": [
      "https://www.ceneo.pl/84514582/opinie-2\n",
      "https://www.ceneo.pl/84514582/opinie-3\n",
      "https://www.ceneo.pl/84514582/opinie-4\n",
      "https://www.ceneo.pl/84514582/opinie-5\n",
      "https://www.ceneo.pl/84514582/opinie-6\n",
      "https://www.ceneo.pl/84514582/opinie-7\n",
      "https://www.ceneo.pl/84514582/opinie-8\n",
      "https://www.ceneo.pl/84514582/opinie-9\n",
      "Brak kolejnej strony.\n"
     ]
    }
   ],
   "source": [
    "product_id = \"84514582\"\n",
    "next_page = (f\"https://www.ceneo.pl/{product_id}#tab=reviews\")\n",
    "all_opinions = []\n",
    "while next_page:\n",
    "    response = requests.get(next_page,headers=headers)\n",
    "    if response.status_code == 200:\n",
    "        page_dom = BeautifulSoup(response.text, \"html.parser\")\n",
    "        opinions = page_dom.select(\"div.js_product-review:not(.user-post--highlight)\")\n",
    "        for opinion in opinions:\n",
    "            try:\n",
    "                single_opinion = {\n",
    "                    \"author\": opinion.select_one(\"span.user-post__author-name\").text.strip(),\n",
    "                    \"recommendation\": opinion.select_one(\"span.user-post__author-recomendation > em\").text.strip(),\n",
    "                    \"stars\": opinion.select_one(\"span.user-post__score-count\").text.strip(),\n",
    "                    \"content\": opinion.select_one(\"div.user-post__text\").text.strip(),\n",
    "                    \"pros\": [p.text.strip() for p in opinion.select(\"div.review-feature__item--positive\")],\n",
    "                    \"cons\": [c.text.strip() for c in opinion.select(\"div.review-feature__item--negative\")],\n",
    "                    \"useful\": opinion.select_one(\"button.vote-yes > span\").text.strip(),\n",
    "                    \"useless\": opinion.select_one(\"button.vote-no > span\").text.strip(),\n",
    "                    \"post_date\": opinion.select_one(\"span.user-post__published > time:nth-child(1)\")['datetime'].strip(),\n",
    "                    \"purchase_date\": opinion.select_one(\"span.user-post__published > time:nth-child(2)\")['datetime'].strip(),\n",
    "                }\n",
    "                all_opinions.append(single_opinion)\n",
    "            except (AttributeError, TypeError):\n",
    "                pass\n",
    "        next_page_element = page_dom.select_one(\"a.pagination__next\")\n",
    "        try:\n",
    "            next_page = \"https://www.ceneo.pl\" + next_page_element[\"href\"]\n",
    "            print(next_page)\n",
    "        except TypeError:\n",
    "            next_page = None\n",
    "            print(\"Brak kolejnej strony.\")\n",
    "    else:\n",
    "        print(f\"{response.status_code}\")"
   ]
  },
  {
   "cell_type": "markdown",
   "metadata": {},
   "source": [
    "### Zapisanie wyników do bazy danych\n"
   ]
  },
  {
   "cell_type": "code",
   "execution_count": 15,
   "metadata": {},
   "outputs": [],
   "source": [
    "if not os.path.exists(\"opinions\"):\n",
    "    os.mkdir(\"opinions\")\n",
    "    "
   ]
  },
  {
   "cell_type": "code",
   "execution_count": null,
   "metadata": {},
   "outputs": [],
   "source": [
    "with open (f\"./opinions/{product_id}.json\",\"w\",encoding=\"utf-8\") as file:\n",
    "    json.dump(all_opinions,file,ensure_ascii=False,indent=4)"
   ]
  }
 ],
 "metadata": {
  "kernelspec": {
   "display_name": ".venv",
   "language": "python",
   "name": "python3"
  },
  "language_info": {
   "codemirror_mode": {
    "name": "ipython",
    "version": 3
   },
   "file_extension": ".py",
   "mimetype": "text/x-python",
   "name": "python",
   "nbconvert_exporter": "python",
   "pygments_lexer": "ipython3",
   "version": "3.13.0"
  }
 },
 "nbformat": 4,
 "nbformat_minor": 2
}
