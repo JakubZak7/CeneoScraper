{
 "cells": [
  {
   "cell_type": "markdown",
   "metadata": {},
   "source": [
    "### Import pakietów"
   ]
  },
  {
   "cell_type": "code",
   "execution_count": 10,
   "metadata": {},
   "outputs": [],
   "source": [
    "import os\n",
    "import json\n",
    "import requests\n",
    "from bs4 import BeautifulSoup"
   ]
  },
  {
   "cell_type": "markdown",
   "metadata": {},
   "source": [
    "### Narzędzia\n"
   ]
  },
  {
   "cell_type": "code",
   "execution_count": null,
   "metadata": {},
   "outputs": [],
   "source": [
    "def extract(ancestor, selector=None, attribute=None, multiple=False):\n",
    "    if selector:\n",
    "        if multiple:\n",
    "            if attribute:\n",
    "                return [tag[attribute].strip() for tag in ancestor.select(selector)]\n",
    "            return [tag.text.strip() for tag in ancestor.select(selector)]\n",
    "        if attribute:\n",
    "            try:\n",
    "                return ancestor.select_one(selector)[attribute].strip()\n",
    "            except TypeError:\n",
    "                return None\n",
    "        try:\n",
    "            return ancestor.select_one(selector).text.strip()\n",
    "        except AttributeError:\n",
    "            return None\n",
    "            \n",
    "    if attribute:\n",
    "        return ancestor[attribute]\n",
    "    return ancestor.text.strip()"
   ]
  },
  {
   "cell_type": "code",
   "execution_count": 12,
   "metadata": {},
   "outputs": [],
   "source": [
    "selectors ={\n",
    "     \"opinion_id\": (None,\"data-entry-id\"),\n",
    "     \"author\": (\"span.user-post__author-name\",),\n",
    "     \"recommendation\": (\"span.user-post__author-recomendation > em\",),\n",
    "     \"stars\": (\"span.user-post__score-count\",),\n",
    "     \"content\": (\"div.user-post__text\",),\n",
    "     \"pros\": (\"div.review-feature__item--positive\",None,True),\n",
    "     \"cons\": (\"div.review-feature__item--negative\",None,True),\n",
    "     \"useful\": (\"button.vote-yes > span\",),\n",
    "     \"useless\": (\"button.vote-no > span\",),\n",
    "     \"post_date\": (\"span.user-post__published > time:nth-child(1)\",'datetime'),\n",
    "     \"purchase_date\": (\"span.user-post__published > time:nth-child(2)\",'datetime'),\n",
    "}"
   ]
  },
  {
   "cell_type": "markdown",
   "metadata": {},
   "source": [
    "### Proces ekstrakcji opinii o produckie ze strony Ceneo.pl\n"
   ]
  },
  {
   "cell_type": "code",
   "execution_count": 13,
   "metadata": {},
   "outputs": [],
   "source": [
    "with open('headers.json',\"r\") as jf:\n",
    "    headers = json.load(jf)"
   ]
  },
  {
   "cell_type": "code",
   "execution_count": null,
   "metadata": {},
   "outputs": [
    {
     "data": {
      "text/plain": [
       "200"
      ]
     },
     "execution_count": 14,
     "metadata": {},
     "output_type": "execute_result"
    }
   ],
   "source": [
    "product_id = input(\"Podaj kod produktu: \")\n",
    "url = (f\"https://www.ceneo.pl/{product_id}#tab=reviews\")\n",
    "all_opinions = []\n",
    "response = requests.get(url,headers=headers)\n",
    "response.status_code"
   ]
  },
  {
   "cell_type": "code",
   "execution_count": 15,
   "metadata": {},
   "outputs": [],
   "source": [
    "if response.status_code == 200:\n",
    "    page_dom = BeautifulSoup(response.text, \"html.parser\")\n",
    "    opinions = page_dom.select(\"div.js_product-review:not(.user-post--highlight)\")"
   ]
  },
  {
   "cell_type": "code",
   "execution_count": null,
   "metadata": {},
   "outputs": [
    {
     "name": "stdout",
     "output_type": "stream",
     "text": [
      "Brak kolejnej strony.\n"
     ]
    }
   ],
   "source": [
    "product_id = input(\"Podaj kod produktu: \")\n",
    "next_page = (f\"https://www.ceneo.pl/{product_id}#tab=reviews\")\n",
    "all_opinions = []\n",
    "while next_page:\n",
    "    response = requests.get(next_page,headers=headers)\n",
    "    if response.status_code == 200:\n",
    "        page_dom = BeautifulSoup(response.text, \"html.parser\")\n",
    "        opinions = page_dom.select(\"div.js_product-review:not(.user-post--highlight)\")\n",
    "        for opinion in opinions:\n",
    "            single_opinion = {\n",
    "                key: extract(opinion,*value)\n",
    "                for key, value in selectors.items()\n",
    "            }\n",
    "            all_opinions.append(single_opinion)\n",
    "        try:\n",
    "            next_page = \"https://www.ceneo.pl\" + extract(page_dom,\"a.pagination__next\",\"href\")\n",
    "        except TypeError:\n",
    "            next_page = None\n",
    "            print(\"Brak kolejnej strony.\")\n",
    "    else:\n",
    "        print(f\"{response.status_code}\")"
   ]
  },
  {
   "cell_type": "markdown",
   "metadata": {},
   "source": [
    "### Zapisanie wyników do bazy danych\n"
   ]
  },
  {
   "cell_type": "code",
   "execution_count": 17,
   "metadata": {},
   "outputs": [],
   "source": [
    "if not os.path.exists(\"opinions\"):\n",
    "    os.mkdir(\"opinions\")\n",
    "    "
   ]
  },
  {
   "cell_type": "code",
   "execution_count": 18,
   "metadata": {},
   "outputs": [],
   "source": [
    "with open (f\"./opinions/{product_id}.json\",\"w\",encoding=\"utf-8\") as file:\n",
    "    json.dump(all_opinions,file,ensure_ascii=False,indent=4)"
   ]
  }
 ],
 "metadata": {
  "kernelspec": {
   "display_name": ".venv",
   "language": "python",
   "name": "python3"
  },
  "language_info": {
   "codemirror_mode": {
    "name": "ipython",
    "version": 3
   },
   "file_extension": ".py",
   "mimetype": "text/x-python",
   "name": "python",
   "nbconvert_exporter": "python",
   "pygments_lexer": "ipython3",
   "version": "3.13.0"
  }
 },
 "nbformat": 4,
 "nbformat_minor": 2
}
